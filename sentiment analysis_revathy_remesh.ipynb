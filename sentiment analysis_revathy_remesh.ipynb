{
 "cells": [
  {
   "cell_type": "markdown",
   "metadata": {},
   "source": [
    "#  Analyzing Student Feedback Using Artificial Intelligence techniques in Python\n",
    "\n",
    "Author:Revathy Remesh\n",
    "\n",
    "\n",
    "\n",
    "\n",
    "Task for:Python developer position(American University in the Emirates)\n"
   ]
  },
  {
   "cell_type": "code",
   "execution_count": null,
   "metadata": {},
   "outputs": [],
   "source": []
  },
  {
   "cell_type": "code",
   "execution_count": 1,
   "metadata": {},
   "outputs": [],
   "source": [
    "#import the required libraries\n",
    "\n",
    "\n",
    "import pandas as pd\n",
    "import numpy as np\n",
    "import matplotlib.pyplot as plt\n",
    "import seaborn as sns\n",
    "import nltk\n",
    "from textblob import TextBlob\n",
    "import spacy\n",
    "from sklearn.feature_extraction.text import CountVectorizer\n",
    "from sklearn.decomposition import LatentDirichletAllocation\n"
   ]
  },
  {
   "cell_type": "code",
   "execution_count": 2,
   "metadata": {},
   "outputs": [],
   "source": [
    "# Load the dataset\n",
    "df = pd.read_excel('AI_Engineer_Dataset_Task_1.xlsx')"
   ]
  },
  {
   "cell_type": "code",
   "execution_count": 3,
   "metadata": {},
   "outputs": [
    {
     "name": "stdout",
     "output_type": "stream",
     "text": [
      "<class 'pandas.core.frame.DataFrame'>\n",
      "RangeIndex: 180969 entries, 0 to 180968\n",
      "Data columns (total 12 columns):\n",
      " #   Column               Non-Null Count   Dtype \n",
      "---  ------               --------------   ----- \n",
      " 0   AcademicYear         180969 non-null  int64 \n",
      " 1   SemesterName         180969 non-null  object\n",
      " 2   ParticipantID        180969 non-null  int64 \n",
      " 3   DegreeLevel          180969 non-null  object\n",
      " 4   Gender               180969 non-null  object\n",
      " 5   Nationality          180969 non-null  object\n",
      " 6   StudentProgram       180969 non-null  object\n",
      " 7   CourseCode           180969 non-null  object\n",
      " 8   CourseName           180969 non-null  object\n",
      " 9   QuestionText         180969 non-null  object\n",
      " 10  QuestionType         180969 non-null  object\n",
      " 11  ParticipantResponse  168848 non-null  object\n",
      "dtypes: int64(2), object(10)\n",
      "memory usage: 16.6+ MB\n"
     ]
    }
   ],
   "source": [
    "df.info()"
   ]
  },
  {
   "cell_type": "code",
   "execution_count": 4,
   "metadata": {},
   "outputs": [
    {
     "data": {
      "text/html": [
       "<div>\n",
       "<style scoped>\n",
       "    .dataframe tbody tr th:only-of-type {\n",
       "        vertical-align: middle;\n",
       "    }\n",
       "\n",
       "    .dataframe tbody tr th {\n",
       "        vertical-align: top;\n",
       "    }\n",
       "\n",
       "    .dataframe thead th {\n",
       "        text-align: right;\n",
       "    }\n",
       "</style>\n",
       "<table border=\"1\" class=\"dataframe\">\n",
       "  <thead>\n",
       "    <tr style=\"text-align: right;\">\n",
       "      <th></th>\n",
       "      <th>AcademicYear</th>\n",
       "      <th>SemesterName</th>\n",
       "      <th>ParticipantID</th>\n",
       "      <th>DegreeLevel</th>\n",
       "      <th>Gender</th>\n",
       "      <th>Nationality</th>\n",
       "      <th>StudentProgram</th>\n",
       "      <th>CourseCode</th>\n",
       "      <th>CourseName</th>\n",
       "      <th>QuestionText</th>\n",
       "      <th>QuestionType</th>\n",
       "      <th>ParticipantResponse</th>\n",
       "    </tr>\n",
       "  </thead>\n",
       "  <tbody>\n",
       "    <tr>\n",
       "      <th>0</th>\n",
       "      <td>2021</td>\n",
       "      <td>Fall 2021 - 2022</td>\n",
       "      <td>7040336900</td>\n",
       "      <td>Bachelor</td>\n",
       "      <td>Female</td>\n",
       "      <td>Palestine</td>\n",
       "      <td>Bachelor of Business Administration</td>\n",
       "      <td>ACC 100</td>\n",
       "      <td>Principles of Accounting</td>\n",
       "      <td>CLO : Evaluate financial and managerial accoun...</td>\n",
       "      <td>Rating</td>\n",
       "      <td>Disagree</td>\n",
       "    </tr>\n",
       "    <tr>\n",
       "      <th>1</th>\n",
       "      <td>2021</td>\n",
       "      <td>Fall 2021 - 2022</td>\n",
       "      <td>6707335167</td>\n",
       "      <td>Bachelor</td>\n",
       "      <td>Male</td>\n",
       "      <td>United Arab Emirates</td>\n",
       "      <td>Bachelor of Business Administration</td>\n",
       "      <td>ACC 100</td>\n",
       "      <td>Principles of Accounting</td>\n",
       "      <td>The coursework and assignments are challenging</td>\n",
       "      <td>Rating</td>\n",
       "      <td>Strongly Disagree</td>\n",
       "    </tr>\n",
       "    <tr>\n",
       "      <th>2</th>\n",
       "      <td>2021</td>\n",
       "      <td>Fall 2021 - 2022</td>\n",
       "      <td>6707335167</td>\n",
       "      <td>Bachelor</td>\n",
       "      <td>Male</td>\n",
       "      <td>United Arab Emirates</td>\n",
       "      <td>Bachelor of Business Administration</td>\n",
       "      <td>ACC 100</td>\n",
       "      <td>Principles of Accounting</td>\n",
       "      <td>The course is relevant to my program of study</td>\n",
       "      <td>Rating</td>\n",
       "      <td>Strongly Disagree</td>\n",
       "    </tr>\n",
       "    <tr>\n",
       "      <th>3</th>\n",
       "      <td>2021</td>\n",
       "      <td>Fall 2021 - 2022</td>\n",
       "      <td>6707335167</td>\n",
       "      <td>Bachelor</td>\n",
       "      <td>Male</td>\n",
       "      <td>United Arab Emirates</td>\n",
       "      <td>Bachelor of Business Administration</td>\n",
       "      <td>ACC 100</td>\n",
       "      <td>Principles of Accounting</td>\n",
       "      <td>Course learning materials are available on the...</td>\n",
       "      <td>Rating</td>\n",
       "      <td>Strongly Disagree</td>\n",
       "    </tr>\n",
       "    <tr>\n",
       "      <th>4</th>\n",
       "      <td>2021</td>\n",
       "      <td>Fall 2021 - 2022</td>\n",
       "      <td>6707335167</td>\n",
       "      <td>Bachelor</td>\n",
       "      <td>Male</td>\n",
       "      <td>United Arab Emirates</td>\n",
       "      <td>Bachelor of Business Administration</td>\n",
       "      <td>ACC 100</td>\n",
       "      <td>Principles of Accounting</td>\n",
       "      <td>The faculty uses additional resources (other t...</td>\n",
       "      <td>Rating</td>\n",
       "      <td>Strongly Disagree</td>\n",
       "    </tr>\n",
       "  </tbody>\n",
       "</table>\n",
       "</div>"
      ],
      "text/plain": [
       "   AcademicYear      SemesterName  ParticipantID DegreeLevel  Gender  \\\n",
       "0          2021  Fall 2021 - 2022     7040336900    Bachelor  Female   \n",
       "1          2021  Fall 2021 - 2022     6707335167    Bachelor    Male   \n",
       "2          2021  Fall 2021 - 2022     6707335167    Bachelor    Male   \n",
       "3          2021  Fall 2021 - 2022     6707335167    Bachelor    Male   \n",
       "4          2021  Fall 2021 - 2022     6707335167    Bachelor    Male   \n",
       "\n",
       "            Nationality                       StudentProgram CourseCode  \\\n",
       "0             Palestine  Bachelor of Business Administration    ACC 100   \n",
       "1  United Arab Emirates  Bachelor of Business Administration    ACC 100   \n",
       "2  United Arab Emirates  Bachelor of Business Administration    ACC 100   \n",
       "3  United Arab Emirates  Bachelor of Business Administration    ACC 100   \n",
       "4  United Arab Emirates  Bachelor of Business Administration    ACC 100   \n",
       "\n",
       "                 CourseName  \\\n",
       "0  Principles of Accounting   \n",
       "1  Principles of Accounting   \n",
       "2  Principles of Accounting   \n",
       "3  Principles of Accounting   \n",
       "4  Principles of Accounting   \n",
       "\n",
       "                                        QuestionText QuestionType  \\\n",
       "0  CLO : Evaluate financial and managerial accoun...       Rating   \n",
       "1     The coursework and assignments are challenging       Rating   \n",
       "2      The course is relevant to my program of study       Rating   \n",
       "3  Course learning materials are available on the...       Rating   \n",
       "4  The faculty uses additional resources (other t...       Rating   \n",
       "\n",
       "  ParticipantResponse  \n",
       "0            Disagree  \n",
       "1   Strongly Disagree  \n",
       "2   Strongly Disagree  \n",
       "3   Strongly Disagree  \n",
       "4   Strongly Disagree  "
      ]
     },
     "execution_count": 4,
     "metadata": {},
     "output_type": "execute_result"
    }
   ],
   "source": [
    "df.head()"
   ]
  },
  {
   "cell_type": "code",
   "execution_count": 5,
   "metadata": {},
   "outputs": [],
   "source": [
    "# Drop rows with missing participant responses\n",
    "df.dropna(subset=['ParticipantResponse'], inplace=True)\n"
   ]
  },
  {
   "cell_type": "code",
   "execution_count": 6,
   "metadata": {},
   "outputs": [
    {
     "name": "stderr",
     "output_type": "stream",
     "text": [
      "[nltk_data] Downloading package punkt to\n",
      "[nltk_data]     C:\\Users\\Revathy\\AppData\\Roaming\\nltk_data...\n",
      "[nltk_data]   Package punkt is already up-to-date!\n"
     ]
    },
    {
     "data": {
      "text/plain": [
       "True"
      ]
     },
     "execution_count": 6,
     "metadata": {},
     "output_type": "execute_result"
    }
   ],
   "source": [
    "import nltk\n",
    "nltk.download('punkt')"
   ]
  },
  {
   "cell_type": "code",
   "execution_count": 7,
   "metadata": {},
   "outputs": [],
   "source": [
    "# Text Preprocessing\n",
    "import re\n",
    "from nltk.tokenize import word_tokenize\n",
    "\n",
    "def preprocess_text(text):\n",
    "    text = re.sub(r'[^\\w\\s]', '', text)  # Remove punctuation\n",
    "    text = text.lower()  # Convert to lowercase\n",
    "    tokens = word_tokenize(text)  # Tokenize the text\n",
    "    return ' '.join(tokens)\n",
    "\n",
    "df['ProcessedResponse'] = df['ParticipantResponse'].apply(preprocess_text)"
   ]
  },
  {
   "cell_type": "code",
   "execution_count": null,
   "metadata": {},
   "outputs": [],
   "source": []
  },
  {
   "cell_type": "code",
   "execution_count": 8,
   "metadata": {},
   "outputs": [
    {
     "data": {
      "text/html": [
       "<div>\n",
       "<style scoped>\n",
       "    .dataframe tbody tr th:only-of-type {\n",
       "        vertical-align: middle;\n",
       "    }\n",
       "\n",
       "    .dataframe tbody tr th {\n",
       "        vertical-align: top;\n",
       "    }\n",
       "\n",
       "    .dataframe thead th {\n",
       "        text-align: right;\n",
       "    }\n",
       "</style>\n",
       "<table border=\"1\" class=\"dataframe\">\n",
       "  <thead>\n",
       "    <tr style=\"text-align: right;\">\n",
       "      <th></th>\n",
       "      <th>AcademicYear</th>\n",
       "      <th>SemesterName</th>\n",
       "      <th>ParticipantID</th>\n",
       "      <th>DegreeLevel</th>\n",
       "      <th>Gender</th>\n",
       "      <th>Nationality</th>\n",
       "      <th>StudentProgram</th>\n",
       "      <th>CourseCode</th>\n",
       "      <th>CourseName</th>\n",
       "      <th>QuestionText</th>\n",
       "      <th>QuestionType</th>\n",
       "      <th>ParticipantResponse</th>\n",
       "      <th>ProcessedResponse</th>\n",
       "    </tr>\n",
       "  </thead>\n",
       "  <tbody>\n",
       "    <tr>\n",
       "      <th>0</th>\n",
       "      <td>2021</td>\n",
       "      <td>Fall 2021 - 2022</td>\n",
       "      <td>7040336900</td>\n",
       "      <td>Bachelor</td>\n",
       "      <td>Female</td>\n",
       "      <td>Palestine</td>\n",
       "      <td>Bachelor of Business Administration</td>\n",
       "      <td>ACC 100</td>\n",
       "      <td>Principles of Accounting</td>\n",
       "      <td>CLO : Evaluate financial and managerial accoun...</td>\n",
       "      <td>Rating</td>\n",
       "      <td>Disagree</td>\n",
       "      <td>disagree</td>\n",
       "    </tr>\n",
       "    <tr>\n",
       "      <th>1</th>\n",
       "      <td>2021</td>\n",
       "      <td>Fall 2021 - 2022</td>\n",
       "      <td>6707335167</td>\n",
       "      <td>Bachelor</td>\n",
       "      <td>Male</td>\n",
       "      <td>United Arab Emirates</td>\n",
       "      <td>Bachelor of Business Administration</td>\n",
       "      <td>ACC 100</td>\n",
       "      <td>Principles of Accounting</td>\n",
       "      <td>The coursework and assignments are challenging</td>\n",
       "      <td>Rating</td>\n",
       "      <td>Strongly Disagree</td>\n",
       "      <td>strongly disagree</td>\n",
       "    </tr>\n",
       "    <tr>\n",
       "      <th>2</th>\n",
       "      <td>2021</td>\n",
       "      <td>Fall 2021 - 2022</td>\n",
       "      <td>6707335167</td>\n",
       "      <td>Bachelor</td>\n",
       "      <td>Male</td>\n",
       "      <td>United Arab Emirates</td>\n",
       "      <td>Bachelor of Business Administration</td>\n",
       "      <td>ACC 100</td>\n",
       "      <td>Principles of Accounting</td>\n",
       "      <td>The course is relevant to my program of study</td>\n",
       "      <td>Rating</td>\n",
       "      <td>Strongly Disagree</td>\n",
       "      <td>strongly disagree</td>\n",
       "    </tr>\n",
       "    <tr>\n",
       "      <th>3</th>\n",
       "      <td>2021</td>\n",
       "      <td>Fall 2021 - 2022</td>\n",
       "      <td>6707335167</td>\n",
       "      <td>Bachelor</td>\n",
       "      <td>Male</td>\n",
       "      <td>United Arab Emirates</td>\n",
       "      <td>Bachelor of Business Administration</td>\n",
       "      <td>ACC 100</td>\n",
       "      <td>Principles of Accounting</td>\n",
       "      <td>Course learning materials are available on the...</td>\n",
       "      <td>Rating</td>\n",
       "      <td>Strongly Disagree</td>\n",
       "      <td>strongly disagree</td>\n",
       "    </tr>\n",
       "    <tr>\n",
       "      <th>4</th>\n",
       "      <td>2021</td>\n",
       "      <td>Fall 2021 - 2022</td>\n",
       "      <td>6707335167</td>\n",
       "      <td>Bachelor</td>\n",
       "      <td>Male</td>\n",
       "      <td>United Arab Emirates</td>\n",
       "      <td>Bachelor of Business Administration</td>\n",
       "      <td>ACC 100</td>\n",
       "      <td>Principles of Accounting</td>\n",
       "      <td>The faculty uses additional resources (other t...</td>\n",
       "      <td>Rating</td>\n",
       "      <td>Strongly Disagree</td>\n",
       "      <td>strongly disagree</td>\n",
       "    </tr>\n",
       "  </tbody>\n",
       "</table>\n",
       "</div>"
      ],
      "text/plain": [
       "   AcademicYear      SemesterName  ParticipantID DegreeLevel  Gender  \\\n",
       "0          2021  Fall 2021 - 2022     7040336900    Bachelor  Female   \n",
       "1          2021  Fall 2021 - 2022     6707335167    Bachelor    Male   \n",
       "2          2021  Fall 2021 - 2022     6707335167    Bachelor    Male   \n",
       "3          2021  Fall 2021 - 2022     6707335167    Bachelor    Male   \n",
       "4          2021  Fall 2021 - 2022     6707335167    Bachelor    Male   \n",
       "\n",
       "            Nationality                       StudentProgram CourseCode  \\\n",
       "0             Palestine  Bachelor of Business Administration    ACC 100   \n",
       "1  United Arab Emirates  Bachelor of Business Administration    ACC 100   \n",
       "2  United Arab Emirates  Bachelor of Business Administration    ACC 100   \n",
       "3  United Arab Emirates  Bachelor of Business Administration    ACC 100   \n",
       "4  United Arab Emirates  Bachelor of Business Administration    ACC 100   \n",
       "\n",
       "                 CourseName  \\\n",
       "0  Principles of Accounting   \n",
       "1  Principles of Accounting   \n",
       "2  Principles of Accounting   \n",
       "3  Principles of Accounting   \n",
       "4  Principles of Accounting   \n",
       "\n",
       "                                        QuestionText QuestionType  \\\n",
       "0  CLO : Evaluate financial and managerial accoun...       Rating   \n",
       "1     The coursework and assignments are challenging       Rating   \n",
       "2      The course is relevant to my program of study       Rating   \n",
       "3  Course learning materials are available on the...       Rating   \n",
       "4  The faculty uses additional resources (other t...       Rating   \n",
       "\n",
       "  ParticipantResponse  ProcessedResponse  \n",
       "0            Disagree           disagree  \n",
       "1   Strongly Disagree  strongly disagree  \n",
       "2   Strongly Disagree  strongly disagree  \n",
       "3   Strongly Disagree  strongly disagree  \n",
       "4   Strongly Disagree  strongly disagree  "
      ]
     },
     "execution_count": 8,
     "metadata": {},
     "output_type": "execute_result"
    }
   ],
   "source": [
    "df.head()"
   ]
  },
  {
   "cell_type": "code",
   "execution_count": 9,
   "metadata": {},
   "outputs": [],
   "source": [
    "# Sentiment Analysis\n",
    "\n",
    "from textblob import TextBlob\n",
    "\n",
    "def get_sentiment(text):\n",
    "    analysis = TextBlob(text)\n",
    "    if analysis.sentiment.polarity > 0:\n",
    "        return 'Positive'\n",
    "    elif analysis.sentiment.polarity < 0:\n",
    "        return 'Negative'\n",
    "    else:\n",
    "        return 'Neutral'\n",
    "\n",
    "df['Sentiment'] = df['ProcessedResponse'].apply(get_sentiment)"
   ]
  },
  {
   "cell_type": "code",
   "execution_count": 10,
   "metadata": {},
   "outputs": [
    {
     "data": {
      "image/png": "[encoded data removed]",
      "text/plain": [
       "<Figure size 432x288 with 1 Axes>"
      ]
     },
     "metadata": {
      "needs_background": "light"
     },
     "output_type": "display_data"
    }
   ],
   "source": [
    "# Visualization of Sentiment Distribution\n",
    "\n",
    "import matplotlib.pyplot as plt\n",
    "\n",
    "sentiment_counts = df['Sentiment'].value_counts()\n",
    "sentiment_counts.plot(kind='bar')\n",
    "plt.xlabel('Sentiment')\n",
    "plt.ylabel('Count')\n",
    "plt.title('Distribution of Sentiment')\n",
    "plt.show()"
   ]
  },
  {
   "cell_type": "code",
   "execution_count": 11,
   "metadata": {},
   "outputs": [],
   "source": [
    "# Topic Modeling\n",
    "from sklearn.feature_extraction.text import CountVectorizer\n",
    "from sklearn.decomposition import LatentDirichletAllocation"
   ]
  },
  {
   "cell_type": "code",
   "execution_count": 12,
   "metadata": {},
   "outputs": [
    {
     "data": {
      "text/plain": [
       "LatentDirichletAllocation(n_components=5, random_state=42)"
      ]
     },
     "execution_count": 12,
     "metadata": {},
     "output_type": "execute_result"
    }
   ],
   "source": [
    "# Vectorize the preprocessed text\n",
    "\n",
    "vectorizer = CountVectorizer(max_features=1000, stop_words='english')\n",
    "X = vectorizer.fit_transform(df['ProcessedResponse'])\n",
    "\n",
    "# Get feature names\n",
    "feature_names = vectorizer.get_feature_names()\n",
    "\n",
    "# Apply LDA\n",
    "lda = LatentDirichletAllocation(n_components=5, random_state=42)\n",
    "lda.fit(X)\n",
    "\n"
   ]
  },
  {
   "cell_type": "code",
   "execution_count": 13,
   "metadata": {},
   "outputs": [
    {
     "name": "stdout",
     "output_type": "stream",
     "text": [
      "Topic 1:\n",
      "disagree لا شكرا يوجد perfect practical توجد لدي ليس nope\n",
      "Topic 2:\n",
      "strongly disagree na comments نو الاجابه النموذجيه الحصول ورقه للقاضيا\n",
      "Topic 3:\n",
      "agree strongly thankz nth number far going right showing dont\n",
      "Topic 4:\n",
      "course في من dr على great best thank students المادة\n",
      "Topic 5:\n",
      "neutral good ok المستحيل المناسبة لتسهيل 00 وتعمل la nol\n"
     ]
    }
   ],
   "source": [
    "# Display topics and representative keywords\n",
    "\n",
    "def display_topics(model, feature_names, no_top_words):\n",
    "    topics = []\n",
    "    for topic_idx, topic in enumerate(model.components_):\n",
    "        topics.append({\n",
    "            \"Topic\": topic_idx + 1,\n",
    "            \"Keywords\": [feature_names[i] for i in topic.argsort()[:-no_top_words - 1:-1]]\n",
    "        })\n",
    "        print(f\"Topic {topic_idx + 1}:\")\n",
    "        print(\" \".join([feature_names[i] for i in topic.argsort()[:-no_top_words - 1:-1]]))\n",
    "    return topics\n",
    "\n",
    "no_top_words = 10\n",
    "topics = display_topics(lda, feature_names, no_top_words)"
   ]
  },
  {
   "cell_type": "code",
   "execution_count": 14,
   "metadata": {},
   "outputs": [
    {
     "name": "stdout",
     "output_type": "stream",
     "text": [
      "Sentiment Distribution:\n",
      "Positive    0.634387\n",
      "Neutral     0.364979\n",
      "Negative    0.000634\n",
      "Name: Sentiment, dtype: float64\n",
      "Topics and Keywords:\n",
      "Topic 1:\n",
      "Keywords: ['disagree', 'لا', 'شكرا', 'يوجد', 'perfect', 'practical', 'توجد', 'لدي', 'ليس', 'nope']\n",
      "Topic 2:\n",
      "Keywords: ['strongly', 'disagree', 'na', 'comments', 'نو', 'الاجابه', 'النموذجيه', 'الحصول', 'ورقه', 'للقاضيا']\n",
      "Topic 3:\n",
      "Keywords: ['agree', 'strongly', 'thankz', 'nth', 'number', 'far', 'going', 'right', 'showing', 'dont']\n",
      "Topic 4:\n",
      "Keywords: ['course', 'في', 'من', 'dr', 'على', 'great', 'best', 'thank', 'students', 'المادة']\n",
      "Topic 5:\n",
      "Keywords: ['neutral', 'good', 'ok', 'المستحيل', 'المناسبة', 'لتسهيل', '00', 'وتعمل', 'la', 'nol']\n"
     ]
    }
   ],
   "source": [
    "# Interpret Sentiment Analysis Results\n",
    "sentiment_counts = df['Sentiment'].value_counts()\n",
    "sentiment_distribution = sentiment_counts / sentiment_counts.sum()\n",
    "print(\"Sentiment Distribution:\")\n",
    "print(sentiment_distribution)\n",
    "\n",
    "# Interpret Topic Modeling Results\n",
    "print(\"Topics and Keywords:\")\n",
    "for topic in topics:\n",
    "    print(f\"Topic {topic['Topic']}:\")\n",
    "    print(\"Keywords:\", topic['Keywords'])"
   ]
  }
 ],
 "metadata": {
  "kernelspec": {
   "display_name": "Python 3",
   "language": "python",
   "name": "python3"
  },
  "language_info": {
   "codemirror_mode": {
    "name": "ipython",
    "version": 3
   },
   "file_extension": ".py",
   "mimetype": "text/x-python",
   "name": "python",
   "nbconvert_exporter": "python",
   "pygments_lexer": "ipython3",
   "version": "3.8.5"
  }
 },
 "nbformat": 4,
 "nbformat_minor": 4
}
